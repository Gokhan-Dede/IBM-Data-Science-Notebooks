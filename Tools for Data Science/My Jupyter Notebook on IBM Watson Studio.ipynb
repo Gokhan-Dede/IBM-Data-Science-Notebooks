{
  "metadata": {
    "language_info": {
      "codemirror_mode": {
        "name": "python",
        "version": 3
      },
      "file_extension": ".py",
      "mimetype": "text/x-python",
      "name": "python",
      "nbconvert_exporter": "python",
      "pygments_lexer": "ipython3",
      "version": "3.8"
    },
    "kernelspec": {
      "name": "python",
      "display_name": "Pyolite",
      "language": "python"
    }
  },
  "nbformat_minor": 4,
  "nbformat": 4,
  "cells": [
    {
      "cell_type": "markdown",
      "source": "# My Jupyter Notebook on IBM Watson Studio #",
      "metadata": {}
    },
    {
      "cell_type": "markdown",
      "source": "**Gökhan Dede**\n\nJunior Data Scientist - Architect - Ph.D. Student",
      "metadata": {}
    },
    {
      "cell_type": "markdown",
      "source": "*I am interested in data science because I want to examine design methodologies by merging data science and machine learning. This will enable him to develop novel methodologies for implementing architectural design based on insightful data.*",
      "metadata": {}
    },
    {
      "cell_type": "markdown",
      "source": "### Following code generates a random number between 0 and 100, and checks it is even or odd. ###",
      "metadata": {}
    },
    {
      "cell_type": "code",
      "source": "import random\n\nrandom_number = random.randint(0,100)\n\nif (random_number % 2) == 0:\n    print(\"{0} is Even\".format(random_number))\nelse:\n    print(\"{0} is Odd\".format(random_number))",
      "metadata": {
        "trusted": true
      },
      "execution_count": 3,
      "outputs": [
        {
          "name": "stdout",
          "text": "43 is Odd\n",
          "output_type": "stream"
        }
      ]
    },
    {
      "cell_type": "markdown",
      "source": "| Skills |\n| --- |\n|1. Python|\n|2. SQL|\n|3. Git|\n|4. Revit|\n|5. Rhinoceros|\n|6. Grasshopper|\n|7. Ladybug|\n|8. Karamba3D|\n\n[GitHub](http://github.com/Gokhan-Dede) http://github.com/Gokhan-Dede",
      "metadata": {}
    },
    {
      "cell_type": "code",
      "source": "",
      "metadata": {},
      "execution_count": null,
      "outputs": []
    }
  ]
}